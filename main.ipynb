{
 "cells": [
  {
   "cell_type": "code",
   "execution_count": 2,
   "id": "e8ff8b96",
   "metadata": {},
   "outputs": [],
   "source": [
    "from langchain.document_loaders import WebBaseLoader\n",
    "\n",
    "# Replace with your target URL\n",
    "url = \"https://github.com/facebookresearch/faiss/blob/main/INSTALL.md\"\n",
    "\n",
    "loader = WebBaseLoader(url)\n",
    "documents = loader.load()\n"
   ]
  },
  {
   "cell_type": "code",
   "execution_count": 13,
   "id": "4c225cc3",
   "metadata": {},
   "outputs": [],
   "source": [
    "\n",
    "from langchain.embeddings import OllamaEmbeddings\n",
    "from langchain.vectorstores import Chroma\n",
    "from langchain.text_splitter import RecursiveCharacterTextSplitter\n",
    "\n",
    "text_splitter = RecursiveCharacterTextSplitter(chunk_size=500, chunk_overlap=100)\n",
    "chunks = text_splitter.split_documents(documents)  # Use 'chunks' instead of overwriting 'documents'\n",
    "\n",
    "embeddings = OllamaEmbeddings(model=\"llama2\")  # Change model name if needed\n"
   ]
  },
  {
   "cell_type": "code",
   "execution_count": null,
   "id": "7e790bc7",
   "metadata": {},
   "outputs": [
    {
     "name": "stderr",
     "output_type": "stream",
     "text": [
      "C:\\Users\\Absar Alam\\AppData\\Local\\Temp\\ipykernel_44764\\2048502858.py:3: LangChainDeprecationWarning: Since Chroma 0.4.x the manual persistence method is no longer supported as docs are automatically persisted.\n",
      "  vectorstore.persist()\n"
     ]
    }
   ],
   "source": [
    "# Store chunks in Chroma vector database\n",
    "vectorstore = Chroma.from_documents(documents, embeddings, persist_directory=\"./chroma_db\")\n",
    "# vectorstore.persist()"
   ]
  },
  {
   "cell_type": "code",
   "execution_count": 19,
   "id": "33282c94",
   "metadata": {},
   "outputs": [
    {
     "name": "stderr",
     "output_type": "stream",
     "text": [
      "C:\\Users\\Absar Alam\\AppData\\Local\\Temp\\ipykernel_44764\\3880201777.py:3: LangChainDeprecationWarning: The method `BaseRetriever.get_relevant_documents` was deprecated in langchain-core 0.1.46 and will be removed in 1.0. Use :meth:`~invoke` instead.\n",
      "  results = retriever.get_relevant_documents(query)\n"
     ]
    }
   ],
   "source": [
    "query = \"How to install Faiss on Windows?\"\n",
    "retriever = vectorstore.as_retriever(search_type=\"similarity\", search_kwargs={\"k\": 5})\n",
    "results = retriever.get_relevant_documents(query)"
   ]
  },
  {
   "cell_type": "code",
   "execution_count": 20,
   "id": "0f7e0c07",
   "metadata": {},
   "outputs": [
    {
     "data": {
      "text/plain": [
       "[Document(metadata={'title': 'faiss/INSTALL.md at main · facebookresearch/faiss · GitHub', 'description': 'A library for efficient similarity search and clustering of dense vectors. - faiss/INSTALL.md at main · facebookresearch/faiss', 'source': 'https://github.com/facebookresearch/faiss/blob/main/INSTALL.md', 'language': 'en'}, page_content='Terms\\n\\n\\nPrivacy\\n\\n\\nSecurity\\n\\n\\nStatus\\n\\n\\nDocs\\n\\n\\nContact\\n\\n\\n\\n\\n       Manage cookies\\n    \\n\\n\\n\\n\\n\\n      Do not share my personal information\\n    \\n\\n\\n\\n\\n\\n\\n\\n\\n\\n\\n\\n\\n\\n\\n\\n\\n    You can’t perform that action at this time.'),\n",
       " Document(metadata={'title': 'faiss/INSTALL.md at main · facebookresearch/faiss · GitHub', 'source': 'https://github.com/facebookresearch/faiss/blob/main/INSTALL.md', 'description': 'A library for efficient similarity search and clustering of dense vectors. - faiss/INSTALL.md at main · facebookresearch/faiss', 'language': 'en'}, page_content='Notifications\\n You must be signed in to change notification settings\\n\\n\\n \\n\\nFork\\n    4k\\n\\n\\n\\n\\n \\n\\n\\n          Star\\n 36.6k\\n\\n\\n\\n\\n\\n\\n\\n\\n\\n\\n\\n\\n\\n\\nCode\\n\\n\\n\\n\\n\\n\\n\\nIssues\\n231\\n\\n\\n\\n\\n\\n\\nPull requests\\n55\\n\\n\\n\\n\\n\\n\\nDiscussions\\n\\n\\n\\n\\n\\n\\n\\nActions\\n\\n\\n\\n\\n\\n\\n\\nProjects\\n1\\n\\n\\n\\n\\n\\n\\nWiki\\n\\n\\n\\n\\n\\n\\n\\nSecurity\\n\\n\\n\\n\\n\\n        Uh oh!\\n\\n There was an error while loading. Please reload this page.\\n\\n \\n \\n\\n\\n\\n\\n\\n\\n\\nInsights\\n\\n\\n\\n \\n\\n \\n\\n\\nAdditional navigation options\\n\\n\\n \\n\\n\\n\\n\\n\\n\\n\\n\\n\\n\\n          Code\\n\\n\\n\\n\\n\\n\\n\\n\\n\\n\\n\\n          Issues\\n\\n\\n\\n\\n\\n\\n\\n\\n\\n\\n\\n          Pull requests'),\n",
       " Document(metadata={'description': 'A library for efficient similarity search and clustering of dense vectors. - faiss/INSTALL.md at main · facebookresearch/faiss', 'source': 'https://github.com/facebookresearch/faiss/blob/main/INSTALL.md', 'language': 'en', 'title': 'faiss/INSTALL.md at main · facebookresearch/faiss · GitHub'}, page_content='Discussions\\n          \\n        Collaborate outside of code\\n      \\n\\n\\n\\n\\n\\n\\n\\n\\n            Code Search\\n          \\n        Find more, search less\\n      \\n\\n\\n\\n\\n\\n\\nExplore\\n\\n\\n\\n      Why GitHub\\n\\n    \\n\\n\\n\\n      All features\\n\\n    \\n\\n\\n\\n      Documentation\\n\\n    \\n\\n\\n\\n\\n\\n      GitHub Skills\\n\\n    \\n\\n\\n\\n\\n\\n      Blog\\n\\n    \\n\\n\\n\\n\\n\\n\\n\\n\\n\\n\\n        Solutions\\n        \\n\\n\\n\\n\\n\\n\\nBy company size\\n\\n\\n\\n      Enterprises\\n\\n    \\n\\n\\n\\n      Small and medium teams\\n\\n    \\n\\n\\n\\n      Startups\\n\\n    \\n\\n\\n\\n      Nonprofits'),\n",
       " Document(metadata={'title': 'faiss/INSTALL.md at main · facebookresearch/faiss · GitHub', 'language': 'en', 'source': 'https://github.com/facebookresearch/faiss/blob/main/INSTALL.md', 'description': 'A library for efficient similarity search and clustering of dense vectors. - faiss/INSTALL.md at main · facebookresearch/faiss'}, page_content='Pricing\\n\\n\\n\\n\\n\\n\\n\\n\\n\\n\\n\\n\\nSearch or jump to...\\n\\n\\n\\n\\n\\n\\n\\nSearch code, repositories, users, issues, pull requests...\\n\\n \\n\\n\\n\\n\\n        Search\\n      \\n\\n\\n\\n\\n\\n\\n\\n\\n\\n\\n\\n\\n\\nClear\\n \\n\\n\\n\\n\\n\\n\\n\\n\\n\\n\\n\\n\\n\\n\\n\\n\\n\\n\\n\\n\\n\\n\\n\\n\\n\\n\\n\\n\\n\\n\\n\\n\\n\\n\\n\\n\\n\\n\\n\\n\\n\\n\\n\\n\\n\\n\\n\\n\\n \\n\\n\\n\\nSearch syntax tips \\n\\n\\n\\n\\n\\n\\n\\n\\n\\n\\n\\n\\n\\n\\n        Provide feedback\\n      \\n\\n\\n\\n\\n\\n\\n\\n\\n\\n \\nWe read every piece of feedback, and take your input very seriously.\\n\\n\\nInclude my email address so I can be contacted\\n\\n\\n     Cancel\\n\\n    Submit feedback'),\n",
       " Document(metadata={'source': 'https://github.com/facebookresearch/faiss/blob/main/INSTALL.md', 'title': 'faiss/INSTALL.md at main · facebookresearch/faiss · GitHub', 'description': 'A library for efficient similarity search and clustering of dense vectors. - faiss/INSTALL.md at main · facebookresearch/faiss', 'language': 'en'}, page_content='Enterprise platform\\n          \\n        AI-powered developer platform\\n      \\n\\n\\n\\n\\nAvailable add-ons\\n\\n\\n\\n\\n\\n\\n\\n\\n            GitHub Advanced Security\\n          \\n        Enterprise-grade security features\\n      \\n\\n\\n\\n\\n\\n\\n\\n\\n            Copilot for business\\n          \\n        Enterprise-grade AI features\\n      \\n\\n\\n\\n\\n\\n\\n\\n\\n            Premium Support\\n          \\n        Enterprise-grade 24/7 support\\n      \\n\\n\\n\\n\\n\\n\\n\\nPricing\\n\\n\\n\\n\\n\\n\\n\\n\\n\\n\\n\\n\\nSearch or jump to...')]"
      ]
     },
     "execution_count": 20,
     "metadata": {},
     "output_type": "execute_result"
    }
   ],
   "source": [
    "results"
   ]
  },
  {
   "cell_type": "code",
   "execution_count": 17,
   "id": "f678770a",
   "metadata": {},
   "outputs": [],
   "source": [
    "from langchain.llms import Ollama\n",
    "llm = Ollama(model=\"llama2\")  # Change model name if needed"
   ]
  }
 ],
 "metadata": {
  "kernelspec": {
   "display_name": "env",
   "language": "python",
   "name": "python3"
  },
  "language_info": {
   "codemirror_mode": {
    "name": "ipython",
    "version": 3
   },
   "file_extension": ".py",
   "mimetype": "text/x-python",
   "name": "python",
   "nbconvert_exporter": "python",
   "pygments_lexer": "ipython3",
   "version": "3.10.11"
  }
 },
 "nbformat": 4,
 "nbformat_minor": 5
}
