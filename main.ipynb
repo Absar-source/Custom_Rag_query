{
 "cells": [
  {
   "cell_type": "code",
   "execution_count": 17,
   "id": "e8ff8b96",
   "metadata": {},
   "outputs": [
    {
     "name": "stderr",
     "output_type": "stream",
     "text": [
      "USER_AGENT environment variable not set, consider setting it to identify your requests.\n"
     ]
    }
   ],
   "source": [
    "from langchain.document_loaders import WebBaseLoader\n",
    "\n",
    "# Replace with your target URL\n",
    "url = \"https://github.com/facebookresearch/faiss/blob/main/INSTALL.md\"\n",
    "\n",
    "loader = WebBaseLoader(url)\n",
    "documents = loader.load()\n"
   ]
  },
  {
   "cell_type": "code",
   "execution_count": 18,
   "id": "4c225cc3",
   "metadata": {},
   "outputs": [
    {
     "name": "stderr",
     "output_type": "stream",
     "text": [
      "C:\\Users\\Absar Alam\\AppData\\Local\\Temp\\ipykernel_9632\\2779010916.py:8: LangChainDeprecationWarning: The class `OllamaEmbeddings` was deprecated in LangChain 0.3.1 and will be removed in 1.0.0. An updated version of the class exists in the :class:`~langchain-ollama package and should be used instead. To use it run `pip install -U :class:`~langchain-ollama` and import as `from :class:`~langchain_ollama import OllamaEmbeddings``.\n",
      "  embeddings = OllamaEmbeddings(model=\"llama2\")  # Change model name if needed\n"
     ]
    }
   ],
   "source": [
    "\n",
    "from langchain.embeddings import OllamaEmbeddings\n",
    "from langchain.vectorstores import Chroma\n",
    "from langchain.text_splitter import RecursiveCharacterTextSplitter\n",
    "\n",
    "text_splitter = RecursiveCharacterTextSplitter(chunk_size=500, chunk_overlap=100)\n",
    "chunks = text_splitter.split_documents(documents)  # Use 'chunks' instead of overwriting 'documents'\n",
    "\n",
    "embeddings = OllamaEmbeddings(model=\"llama2\")  # Change model name if needed\n"
   ]
  },
  {
   "cell_type": "code",
   "execution_count": null,
   "id": "7e790bc7",
   "metadata": {},
   "outputs": [],
   "source": [
    "# Store chunks in Chroma vector database\n",
    "vectorstore = Chroma.from_documents(chunks, embeddings, persist_directory=\"./chroma_db\")\n",
    "# vectorstore.persist()"
   ]
  },
  {
   "cell_type": "code",
   "execution_count": null,
   "id": "3c323b19",
   "metadata": {},
   "outputs": [],
   "source": [
    "query = \"How to install Faiss on Windows?\"\n",
    "retriever = vectorstore.as_retriever(search_type=\"similarity\", search_kwargs={\"k\": 5})\n",
    "results = retriever.get_relevant_documents(query)"
   ]
  },
  {
   "cell_type": "code",
   "execution_count": null,
   "id": "225310cb",
   "metadata": {},
   "outputs": [],
   "source": [
    "import os\n",
    "from langchain_pinecone import PineconeVectorStore\n",
    "from langchain_openai import OpenAIEmbeddings\n",
    "\n",
    "\n",
    "os.environ['PINECONE_API_KEY'] = 'pcsk_jb8gS_LNy8xi9M59mMaRJi1HtoZG7JKHSx4HxCmGJYW6RhcVoYVMuXAAZ4qQnFhgg7AMe'\n",
    "\n",
    "index_name = \"rag-chatbot\"  # Replace with your Pinecone index name\n",
    "\n",
    "vectorstorePine = PineconeVectorStore(index_name=index_name, embedding=embeddings)"
   ]
  },
  {
   "cell_type": "code",
   "execution_count": 38,
   "id": "dad4ff61",
   "metadata": {},
   "outputs": [
    {
     "name": "stdout",
     "output_type": "stream",
     "text": [
      "Embedding dimension: 4096\n"
     ]
    }
   ],
   "source": [
    "\n",
    "sample_text = \"my name is absar alam and i am a software engineer\"\n",
    "vector = embeddings.embed_documents([sample_text])[0]\n",
    "print(\"Embedding dimension:\", len(vector))"
   ]
  },
  {
   "cell_type": "code",
   "execution_count": null,
   "id": "f9809c53",
   "metadata": {},
   "outputs": [
    {
     "data": {
      "text/plain": [
       "['29e52c21-851e-4787-9bd2-0dd6d1a4d91a',\n",
       " '67ad5494-566a-4fd2-a2c3-29709c6fceb7',\n",
       " '21475f4e-b761-4ca4-8bce-dc288497ccd9',\n",
       " '8bcb13a2-1174-458f-8e21-117d02ec5b40',\n",
       " '28df6c9b-825f-4c62-986e-abcbf3bb08db',\n",
       " '00fad64a-38bb-4aea-82dc-aee4baf0abf9',\n",
       " 'fe0e50d8-fd80-4ea4-a481-72f72e870456',\n",
       " 'c1892547-8b6d-4ba0-9668-96d74c0d97bc',\n",
       " '815c61d9-7540-44a2-bed0-c9671f509414',\n",
       " 'fbc90e07-0fb9-459a-84c9-8594c55d2e39',\n",
       " '03b435b8-56ad-4e59-897f-e9a02e557c35',\n",
       " '43a0839d-1fc8-4efa-90b1-47ab0e2ca83e',\n",
       " '996bb6c8-48e2-4eaf-9bd1-9be0eba3c289',\n",
       " 'dedb5f6c-d201-4b73-8777-2023c143209c']"
      ]
     },
     "execution_count": 40,
     "metadata": {},
     "output_type": "execute_result"
    }
   ],
   "source": [
    "vectorstorePine.add_documents(chunks)"
   ]
  },
  {
   "cell_type": "code",
   "execution_count": null,
   "id": "3dd5ed77",
   "metadata": {},
   "outputs": [],
   "source": [
    "query = \"Installing Faiss via conda\"\n",
    "result =vectorstorePine.similarity_search(query)\n",
    "result\n",
    "    \n"
   ]
  },
  {
   "cell_type": "code",
   "execution_count": null,
   "id": "33282c94",
   "metadata": {},
   "outputs": [
    {
     "name": "stderr",
     "output_type": "stream",
     "text": [
      "C:\\Users\\Absar Alam\\AppData\\Local\\Temp\\ipykernel_44764\\3880201777.py:3: LangChainDeprecationWarning: The method `BaseRetriever.get_relevant_documents` was deprecated in langchain-core 0.1.46 and will be removed in 1.0. Use :meth:`~invoke` instead.\n",
      "  results = retriever.get_relevant_documents(query)\n"
     ]
    }
   ],
   "source": []
  },
  {
   "cell_type": "code",
   "execution_count": 20,
   "id": "0f7e0c07",
   "metadata": {},
   "outputs": [
    {
     "data": {
      "text/plain": [
       "[Document(metadata={'title': 'faiss/INSTALL.md at main · facebookresearch/faiss · GitHub', 'description': 'A library for efficient similarity search and clustering of dense vectors. - faiss/INSTALL.md at main · facebookresearch/faiss', 'source': 'https://github.com/facebookresearch/faiss/blob/main/INSTALL.md', 'language': 'en'}, page_content='Terms\\n\\n\\nPrivacy\\n\\n\\nSecurity\\n\\n\\nStatus\\n\\n\\nDocs\\n\\n\\nContact\\n\\n\\n\\n\\n       Manage cookies\\n    \\n\\n\\n\\n\\n\\n      Do not share my personal information\\n    \\n\\n\\n\\n\\n\\n\\n\\n\\n\\n\\n\\n\\n\\n\\n\\n\\n    You can’t perform that action at this time.'),\n",
       " Document(metadata={'title': 'faiss/INSTALL.md at main · facebookresearch/faiss · GitHub', 'source': 'https://github.com/facebookresearch/faiss/blob/main/INSTALL.md', 'description': 'A library for efficient similarity search and clustering of dense vectors. - faiss/INSTALL.md at main · facebookresearch/faiss', 'language': 'en'}, page_content='Notifications\\n You must be signed in to change notification settings\\n\\n\\n \\n\\nFork\\n    4k\\n\\n\\n\\n\\n \\n\\n\\n          Star\\n 36.6k\\n\\n\\n\\n\\n\\n\\n\\n\\n\\n\\n\\n\\n\\n\\nCode\\n\\n\\n\\n\\n\\n\\n\\nIssues\\n231\\n\\n\\n\\n\\n\\n\\nPull requests\\n55\\n\\n\\n\\n\\n\\n\\nDiscussions\\n\\n\\n\\n\\n\\n\\n\\nActions\\n\\n\\n\\n\\n\\n\\n\\nProjects\\n1\\n\\n\\n\\n\\n\\n\\nWiki\\n\\n\\n\\n\\n\\n\\n\\nSecurity\\n\\n\\n\\n\\n\\n        Uh oh!\\n\\n There was an error while loading. Please reload this page.\\n\\n \\n \\n\\n\\n\\n\\n\\n\\n\\nInsights\\n\\n\\n\\n \\n\\n \\n\\n\\nAdditional navigation options\\n\\n\\n \\n\\n\\n\\n\\n\\n\\n\\n\\n\\n\\n          Code\\n\\n\\n\\n\\n\\n\\n\\n\\n\\n\\n\\n          Issues\\n\\n\\n\\n\\n\\n\\n\\n\\n\\n\\n\\n          Pull requests'),\n",
       " Document(metadata={'description': 'A library for efficient similarity search and clustering of dense vectors. - faiss/INSTALL.md at main · facebookresearch/faiss', 'source': 'https://github.com/facebookresearch/faiss/blob/main/INSTALL.md', 'language': 'en', 'title': 'faiss/INSTALL.md at main · facebookresearch/faiss · GitHub'}, page_content='Discussions\\n          \\n        Collaborate outside of code\\n      \\n\\n\\n\\n\\n\\n\\n\\n\\n            Code Search\\n          \\n        Find more, search less\\n      \\n\\n\\n\\n\\n\\n\\nExplore\\n\\n\\n\\n      Why GitHub\\n\\n    \\n\\n\\n\\n      All features\\n\\n    \\n\\n\\n\\n      Documentation\\n\\n    \\n\\n\\n\\n\\n\\n      GitHub Skills\\n\\n    \\n\\n\\n\\n\\n\\n      Blog\\n\\n    \\n\\n\\n\\n\\n\\n\\n\\n\\n\\n\\n        Solutions\\n        \\n\\n\\n\\n\\n\\n\\nBy company size\\n\\n\\n\\n      Enterprises\\n\\n    \\n\\n\\n\\n      Small and medium teams\\n\\n    \\n\\n\\n\\n      Startups\\n\\n    \\n\\n\\n\\n      Nonprofits'),\n",
       " Document(metadata={'title': 'faiss/INSTALL.md at main · facebookresearch/faiss · GitHub', 'language': 'en', 'source': 'https://github.com/facebookresearch/faiss/blob/main/INSTALL.md', 'description': 'A library for efficient similarity search and clustering of dense vectors. - faiss/INSTALL.md at main · facebookresearch/faiss'}, page_content='Pricing\\n\\n\\n\\n\\n\\n\\n\\n\\n\\n\\n\\n\\nSearch or jump to...\\n\\n\\n\\n\\n\\n\\n\\nSearch code, repositories, users, issues, pull requests...\\n\\n \\n\\n\\n\\n\\n        Search\\n      \\n\\n\\n\\n\\n\\n\\n\\n\\n\\n\\n\\n\\n\\nClear\\n \\n\\n\\n\\n\\n\\n\\n\\n\\n\\n\\n\\n\\n\\n\\n\\n\\n\\n\\n\\n\\n\\n\\n\\n\\n\\n\\n\\n\\n\\n\\n\\n\\n\\n\\n\\n\\n\\n\\n\\n\\n\\n\\n\\n\\n\\n\\n\\n\\n \\n\\n\\n\\nSearch syntax tips \\n\\n\\n\\n\\n\\n\\n\\n\\n\\n\\n\\n\\n\\n\\n        Provide feedback\\n      \\n\\n\\n\\n\\n\\n\\n\\n\\n\\n \\nWe read every piece of feedback, and take your input very seriously.\\n\\n\\nInclude my email address so I can be contacted\\n\\n\\n     Cancel\\n\\n    Submit feedback'),\n",
       " Document(metadata={'source': 'https://github.com/facebookresearch/faiss/blob/main/INSTALL.md', 'title': 'faiss/INSTALL.md at main · facebookresearch/faiss · GitHub', 'description': 'A library for efficient similarity search and clustering of dense vectors. - faiss/INSTALL.md at main · facebookresearch/faiss', 'language': 'en'}, page_content='Enterprise platform\\n          \\n        AI-powered developer platform\\n      \\n\\n\\n\\n\\nAvailable add-ons\\n\\n\\n\\n\\n\\n\\n\\n\\n            GitHub Advanced Security\\n          \\n        Enterprise-grade security features\\n      \\n\\n\\n\\n\\n\\n\\n\\n\\n            Copilot for business\\n          \\n        Enterprise-grade AI features\\n      \\n\\n\\n\\n\\n\\n\\n\\n\\n            Premium Support\\n          \\n        Enterprise-grade 24/7 support\\n      \\n\\n\\n\\n\\n\\n\\n\\nPricing\\n\\n\\n\\n\\n\\n\\n\\n\\n\\n\\n\\n\\nSearch or jump to...')]"
      ]
     },
     "execution_count": 20,
     "metadata": {},
     "output_type": "execute_result"
    }
   ],
   "source": [
    "results"
   ]
  },
  {
   "cell_type": "code",
   "execution_count": 49,
   "id": "f678770a",
   "metadata": {},
   "outputs": [
    {
     "name": "stderr",
     "output_type": "stream",
     "text": [
      "C:\\Users\\Absar Alam\\AppData\\Local\\Temp\\ipykernel_9632\\2643046811.py:2: LangChainDeprecationWarning: The class `Ollama` was deprecated in LangChain 0.3.1 and will be removed in 1.0.0. An updated version of the class exists in the :class:`~langchain-ollama package and should be used instead. To use it run `pip install -U :class:`~langchain-ollama` and import as `from :class:`~langchain_ollama import OllamaLLM``.\n",
      "  llm = Ollama(model=\"llama2\")  # Change model name if needed\n"
     ]
    }
   ],
   "source": [
    "from langchain.llms import Ollama\n",
    "llm = Ollama(model=\"llama2\")  # Change model name if needed"
   ]
  },
  {
   "cell_type": "code",
   "execution_count": 50,
   "id": "078cf0b5",
   "metadata": {},
   "outputs": [],
   "source": [
    "from langchain_core.prompts import PromptTemplate\n",
    "prompt =PromptTemplate.from_template (\n",
    "    \"\"\"You are an expert assistant. Use the following context to answer the user's question.\\n\\n\"\n",
    "    <context>\n",
    "    {context}\n",
    "    </context>\\n\\n\"\n",
    "    Question:{input}\\n\\n\n",
    "    \"Answer:\"\"\"\n",
    ")\n",
    "\n",
    "# Example usage:\n",
    "# context = \"Faiss can be installed on Windows using conda. Make sure to use the correct Python version.\"\n",
    "# user_input = \"How do I install Faiss on Windows?\"\n",
    "# print(generate_prompt(context, user_input))"
   ]
  },
  {
   "cell_type": "code",
   "execution_count": null,
   "id": "0ee66345",
   "metadata": {},
   "outputs": [],
   "source": [
    "from langchain.chains.combine_documents import create_stuff_documents_chain\n",
    "\n",
    "doc_chain = create_stuff_documents_chain(llm, prompt=prompt)\n",
    "db_retriver = vectorstorePine.as_retriever()\n"
   ]
  },
  {
   "cell_type": "code",
   "execution_count": 54,
   "id": "1f006ff3",
   "metadata": {},
   "outputs": [],
   "source": [
    "from langchain.chains import create_retrieval_chain\n",
    "retrieval_chain = create_retrieval_chain(db_retriver, doc_chain)"
   ]
  },
  {
   "cell_type": "code",
   "execution_count": 55,
   "id": "33ab74b1",
   "metadata": {},
   "outputs": [
    {
     "data": {
      "text/plain": [
       "{'input': 'How to install Faiss on Windows?',\n",
       " 'context': [Document(id='dedb5f6c-d201-4b73-8777-2023c143209c', metadata={'description': 'A library for efficient similarity search and clustering of dense vectors. - faiss/INSTALL.md at main · facebookresearch/faiss', 'language': 'en', 'source': 'https://github.com/facebookresearch/faiss/blob/main/INSTALL.md', 'title': 'faiss/INSTALL.md at main · facebookresearch/faiss · GitHub'}, page_content='Terms\\n\\n\\nPrivacy\\n\\n\\nSecurity\\n\\n\\nStatus\\n\\n\\nDocs\\n\\n\\nContact\\n\\n\\n\\n\\n       Manage cookies\\n    \\n\\n\\n\\n\\n\\n      Do not share my personal information\\n    \\n\\n\\n\\n\\n\\n\\n\\n\\n\\n\\n\\n\\n\\n\\n\\n\\n    You can’t perform that action at this time.'),\n",
       "  Document(id='43a0839d-1fc8-4efa-90b1-47ab0e2ca83e', metadata={'description': 'A library for efficient similarity search and clustering of dense vectors. - faiss/INSTALL.md at main · facebookresearch/faiss', 'language': 'en', 'source': 'https://github.com/facebookresearch/faiss/blob/main/INSTALL.md', 'title': 'faiss/INSTALL.md at main · facebookresearch/faiss · GitHub'}, page_content='Notifications\\n You must be signed in to change notification settings\\n\\n\\n \\n\\nFork\\n    4k\\n\\n\\n\\n\\n \\n\\n\\n          Star\\n 36.6k\\n\\n\\n\\n\\n\\n\\n\\n\\n\\n\\n\\n\\n\\n\\nCode\\n\\n\\n\\n\\n\\n\\n\\nIssues\\n231\\n\\n\\n\\n\\n\\n\\nPull requests\\n56\\n\\n\\n\\n\\n\\n\\nDiscussions\\n\\n\\n\\n\\n\\n\\n\\nActions\\n\\n\\n\\n\\n\\n\\n\\nProjects\\n1\\n\\n\\n\\n\\n\\n\\nWiki\\n\\n\\n\\n\\n\\n\\n\\nSecurity\\n\\n\\n\\n\\n\\n        Uh oh!\\n\\n There was an error while loading. Please reload this page.\\n\\n \\n \\n\\n\\n\\n\\n\\n\\n\\nInsights\\n\\n\\n\\n \\n\\n \\n\\n\\nAdditional navigation options\\n\\n\\n \\n\\n\\n\\n\\n\\n\\n\\n\\n\\n\\n          Code\\n\\n\\n\\n\\n\\n\\n\\n\\n\\n\\n\\n          Issues\\n\\n\\n\\n\\n\\n\\n\\n\\n\\n\\n\\n          Pull requests'),\n",
       "  Document(id='8bcb13a2-1174-458f-8e21-117d02ec5b40', metadata={'description': 'A library for efficient similarity search and clustering of dense vectors. - faiss/INSTALL.md at main · facebookresearch/faiss', 'language': 'en', 'source': 'https://github.com/facebookresearch/faiss/blob/main/INSTALL.md', 'title': 'faiss/INSTALL.md at main · facebookresearch/faiss · GitHub'}, page_content='Discussions\\n          \\n        Collaborate outside of code\\n      \\n\\n\\n\\n\\n\\n\\n\\n\\n            Code Search\\n          \\n        Find more, search less\\n      \\n\\n\\n\\n\\n\\n\\nExplore\\n\\n\\n\\n      Why GitHub\\n\\n    \\n\\n\\n\\n      All features\\n\\n    \\n\\n\\n\\n      Documentation\\n\\n    \\n\\n\\n\\n\\n\\n      GitHub Skills\\n\\n    \\n\\n\\n\\n\\n\\n      Blog\\n\\n    \\n\\n\\n\\n\\n\\n\\n\\n\\n\\n\\n        Solutions\\n        \\n\\n\\n\\n\\n\\n\\nBy company size\\n\\n\\n\\n      Enterprises\\n\\n    \\n\\n\\n\\n      Small and medium teams\\n\\n    \\n\\n\\n\\n      Startups\\n\\n    \\n\\n\\n\\n      Nonprofits'),\n",
       "  Document(id='815c61d9-7540-44a2-bed0-c9671f509414', metadata={'description': 'A library for efficient similarity search and clustering of dense vectors. - faiss/INSTALL.md at main · facebookresearch/faiss', 'language': 'en', 'source': 'https://github.com/facebookresearch/faiss/blob/main/INSTALL.md', 'title': 'faiss/INSTALL.md at main · facebookresearch/faiss · GitHub'}, page_content='Pricing\\n\\n\\n\\n\\n\\n\\n\\n\\n\\n\\n\\n\\nSearch or jump to...\\n\\n\\n\\n\\n\\n\\n\\nSearch code, repositories, users, issues, pull requests...\\n\\n \\n\\n\\n\\n\\n        Search\\n      \\n\\n\\n\\n\\n\\n\\n\\n\\n\\n\\n\\n\\n\\nClear\\n \\n\\n\\n\\n\\n\\n\\n\\n\\n\\n\\n\\n\\n\\n\\n\\n\\n\\n\\n\\n\\n\\n\\n\\n\\n\\n\\n\\n\\n\\n\\n\\n\\n\\n\\n\\n\\n\\n\\n\\n\\n\\n\\n\\n\\n\\n\\n\\n\\n \\n\\n\\n\\nSearch syntax tips \\n\\n\\n\\n\\n\\n\\n\\n\\n\\n\\n\\n\\n\\n\\n        Provide feedback\\n      \\n\\n\\n\\n\\n\\n\\n\\n\\n\\n \\nWe read every piece of feedback, and take your input very seriously.\\n\\n\\nInclude my email address so I can be contacted\\n\\n\\n     Cancel\\n\\n    Submit feedback')],\n",
       " 'answer': \"To install Faiss on Windows, you can follow these steps:\\n\\n1. Install Python: Faiss is a Python library, so you need to have Python installed on your Windows machine. You can download the latest version of Python from the official website (<https://www.python.org/>) and follow the installation instructions.\\n2. Clone the Faiss repository: Use a command-line tool like Git Bash or PowerShell to navigate to the directory where you want to install Faiss. Then, use the following command to clone the Faiss repository from GitHub:\\n```bash\\ngit clone https://github.com/FacebookResearch/faiss.git\\n```\\n3. Install Faiss: Once the repository is cloned, navigate to the `faiss` directory and run the following command to install Faiss:\\n```python\\npython -m faiss\\n```\\nThis will install Faiss and its dependencies.\\n4. Verify installation: After installing Faiss, you can verify that it's working correctly by running the following command in the command prompt or PowerShell:\\n```bash\\nfaiss --version\\n```\\nThis should display the version of Faiss that you just installed.\\n5. Use Faiss: Finally, you can start using Faiss in your Python code. Import Faiss as usual:\\n```python\\nimport faiss\\n```\\nAnd you're good to go!\\n\\nNote: These steps assume that you have administrative privileges on your Windows machine. If you don't have admin rights, you may need to use a tool like Git Bash or PowerShell to install Faiss.\"}"
      ]
     },
     "execution_count": 55,
     "metadata": {},
     "output_type": "execute_result"
    }
   ],
   "source": [
    "retrieval_chain.invoke({\n",
    "    \"input\": \"How to install Faiss on Windows?\",})"
   ]
  }
 ],
 "metadata": {
  "kernelspec": {
   "display_name": "env",
   "language": "python",
   "name": "python3"
  },
  "language_info": {
   "codemirror_mode": {
    "name": "ipython",
    "version": 3
   },
   "file_extension": ".py",
   "mimetype": "text/x-python",
   "name": "python",
   "nbconvert_exporter": "python",
   "pygments_lexer": "ipython3",
   "version": "3.10.11"
  }
 },
 "nbformat": 4,
 "nbformat_minor": 5
}
